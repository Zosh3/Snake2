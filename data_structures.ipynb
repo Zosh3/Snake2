{
 "cells": [
  {
   "cell_type": "markdown",
   "id": "24e06feb",
   "metadata": {},
   "source": [
    "Lists"
   ]
  },
  {
   "cell_type": "code",
   "execution_count": 12,
   "id": "03a4a476",
   "metadata": {},
   "outputs": [
    {
     "data": {
      "text/plain": [
       "['Susan', 'Anna', 'Zeynab', 'Ysabella']"
      ]
     },
     "execution_count": 12,
     "metadata": {},
     "output_type": "execute_result"
    }
   ],
   "source": [
    "friends = [\"Susan\" , \"Anna\" , \"Zeynab\" , \"Ysabella\"]\n",
    "friends"
   ]
  },
  {
   "cell_type": "code",
   "execution_count": null,
   "id": "e9897779",
   "metadata": {},
   "outputs": [
    {
     "data": {
      "text/plain": [
       "'Susan'"
      ]
     },
     "execution_count": 3,
     "metadata": {},
     "output_type": "execute_result"
    }
   ],
   "source": [
    "friends[0] #My first friend"
   ]
  },
  {
   "cell_type": "code",
   "execution_count": null,
   "id": "5c71b496",
   "metadata": {},
   "outputs": [
    {
     "data": {
      "text/plain": [
       "'Ysabella'"
      ]
     },
     "execution_count": 4,
     "metadata": {},
     "output_type": "execute_result"
    }
   ],
   "source": [
    "friends[-1] #My last friend"
   ]
  },
  {
   "cell_type": "code",
   "execution_count": 13,
   "id": "bbf68b01",
   "metadata": {},
   "outputs": [
    {
     "data": {
      "text/plain": [
       "['Susan', 'Anna', 'Zeynab', 'Ysabella', 'Amy']"
      ]
     },
     "execution_count": 13,
     "metadata": {},
     "output_type": "execute_result"
    }
   ],
   "source": [
    "friends.append(\"Amy\")\n",
    "friends"
   ]
  },
  {
   "cell_type": "code",
   "execution_count": 14,
   "id": "41b634b6",
   "metadata": {},
   "outputs": [
    {
     "data": {
      "text/plain": [
       "['Ava', 'Susan', 'Anna', 'Zeynab', 'Ysabella', 'Amy']"
      ]
     },
     "execution_count": 14,
     "metadata": {},
     "output_type": "execute_result"
    }
   ],
   "source": [
    "friends.insert(0, \"Ava\")\n",
    "friends"
   ]
  },
  {
   "cell_type": "code",
   "execution_count": 15,
   "id": "a5d270e5",
   "metadata": {},
   "outputs": [
    {
     "data": {
      "text/plain": [
       "['Amy', 'Anna', 'Ava', 'Susan', 'Ysabella', 'Zeynab']"
      ]
     },
     "execution_count": 15,
     "metadata": {},
     "output_type": "execute_result"
    }
   ],
   "source": [
    "friends.sort()\n",
    "friends"
   ]
  },
  {
   "cell_type": "code",
   "execution_count": 16,
   "id": "880f7bb6",
   "metadata": {},
   "outputs": [
    {
     "data": {
      "text/plain": [
       "['Amy', 'Anna', 'Ava', 'Susan', 'Ysabella', 'Zeynab', 'Zosia']"
      ]
     },
     "execution_count": 16,
     "metadata": {},
     "output_type": "execute_result"
    }
   ],
   "source": [
    "friends.append(\"Zosia\")\n",
    "friends"
   ]
  },
  {
   "cell_type": "code",
   "execution_count": 17,
   "id": "59e6225b",
   "metadata": {},
   "outputs": [
    {
     "data": {
      "text/plain": [
       "['Amy', 'Anna', 'Ava', 'Susan', 'Ysabella', 'Zeynab']"
      ]
     },
     "execution_count": 17,
     "metadata": {},
     "output_type": "execute_result"
    }
   ],
   "source": [
    "friends.pop()\n",
    "friends"
   ]
  },
  {
   "cell_type": "markdown",
   "id": "417f3c2f",
   "metadata": {},
   "source": [
    "Tuples"
   ]
  },
  {
   "cell_type": "code",
   "execution_count": 18,
   "id": "16b166d3",
   "metadata": {},
   "outputs": [
    {
     "data": {
      "text/plain": [
       "('Mom', 'Dad', 'Brother', 'Sister')"
      ]
     },
     "execution_count": 18,
     "metadata": {},
     "output_type": "execute_result"
    }
   ],
   "source": [
    "family = (\"Mom\", \"Dad\", \"Brother\", \"Sister\")\n",
    "family"
   ]
  },
  {
   "cell_type": "code",
   "execution_count": 19,
   "id": "2133242f",
   "metadata": {},
   "outputs": [
    {
     "ename": "AttributeError",
     "evalue": "'tuple' object has no attribute 'append'",
     "output_type": "error",
     "traceback": [
      "\u001b[31m---------------------------------------------------------------------------\u001b[39m",
      "\u001b[31mAttributeError\u001b[39m                            Traceback (most recent call last)",
      "\u001b[36mCell\u001b[39m\u001b[36m \u001b[39m\u001b[32mIn[19]\u001b[39m\u001b[32m, line 1\u001b[39m\n\u001b[32m----> \u001b[39m\u001b[32m1\u001b[39m \u001b[43mfamily\u001b[49m\u001b[43m.\u001b[49m\u001b[43mappend\u001b[49m(\u001b[33m\"\u001b[39m\u001b[33mAunt\u001b[39m\u001b[33m\"\u001b[39m) \u001b[38;5;66;03m#this will raise an error because tuples are immutable\u001b[39;00m\n",
      "\u001b[31mAttributeError\u001b[39m: 'tuple' object has no attribute 'append'"
     ]
    }
   ],
   "source": [
    "family.append(\"Aunt\") #this will raise an error because tuples are immutable"
   ]
  },
  {
   "cell_type": "code",
   "execution_count": 20,
   "id": "f7e81683",
   "metadata": {},
   "outputs": [
    {
     "data": {
      "text/plain": [
       "'Mom'"
      ]
     },
     "execution_count": 20,
     "metadata": {},
     "output_type": "execute_result"
    }
   ],
   "source": [
    "family[0]"
   ]
  },
  {
   "cell_type": "code",
   "execution_count": null,
   "id": "92b252ec",
   "metadata": {},
   "outputs": [
    {
     "data": {
      "text/plain": [
       "4"
      ]
     },
     "execution_count": 21,
     "metadata": {},
     "output_type": "execute_result"
    }
   ],
   "source": [
    "len(family) #length of the tuple"
   ]
  },
  {
   "cell_type": "code",
   "execution_count": 29,
   "id": "ad602272",
   "metadata": {},
   "outputs": [],
   "source": [
    "snake = [(10 , 10), (11, 10) , (12,10)]"
   ]
  },
  {
   "cell_type": "code",
   "execution_count": null,
   "id": "ef3b3ab8",
   "metadata": {},
   "outputs": [
    {
     "data": {
      "text/plain": [
       "3"
      ]
     },
     "execution_count": 24,
     "metadata": {},
     "output_type": "execute_result"
    }
   ],
   "source": [
    "len(snake) "
   ]
  },
  {
   "cell_type": "code",
   "execution_count": 26,
   "id": "27b93bf9",
   "metadata": {},
   "outputs": [
    {
     "data": {
      "text/plain": [
       "tuple"
      ]
     },
     "execution_count": 26,
     "metadata": {},
     "output_type": "execute_result"
    }
   ],
   "source": [
    "type(snake[0])"
   ]
  },
  {
   "cell_type": "code",
   "execution_count": 30,
   "id": "5b3952db",
   "metadata": {},
   "outputs": [
    {
     "data": {
      "text/plain": [
       "[(11, 10), (12, 10), (13, 10)]"
      ]
     },
     "execution_count": 30,
     "metadata": {},
     "output_type": "execute_result"
    }
   ],
   "source": [
    "new_head = (13, 10) #new head of the snake\n",
    "snake.append(new_head) #adding new head to the snake \n",
    "snake.pop(0)\n",
    "snake"
   ]
  },
  {
   "cell_type": "markdown",
   "id": "14b53ed8",
   "metadata": {},
   "source": [
    "# Dicts"
   ]
  },
  {
   "cell_type": "code",
   "execution_count": 1,
   "id": "724ad0e0",
   "metadata": {},
   "outputs": [
    {
     "data": {
      "text/plain": [
       "{'name': 'Zosia', 'age': 19, 'city': 'London'}"
      ]
     },
     "execution_count": 1,
     "metadata": {},
     "output_type": "execute_result"
    }
   ],
   "source": [
    "dict = {\"name\": \"Zosia\", \"age\": 19, \"city\": \"London\"}\n",
    "dict"
   ]
  },
  {
   "cell_type": "code",
   "execution_count": 2,
   "id": "1490801a",
   "metadata": {},
   "outputs": [
    {
     "data": {
      "text/plain": [
       "'Zosia'"
      ]
     },
     "execution_count": 2,
     "metadata": {},
     "output_type": "execute_result"
    }
   ],
   "source": [
    "dict[\"name\"]"
   ]
  },
  {
   "cell_type": "code",
   "execution_count": 3,
   "id": "cc449388",
   "metadata": {},
   "outputs": [
    {
     "ename": "KeyError",
     "evalue": "'name1'",
     "output_type": "error",
     "traceback": [
      "\u001b[31m---------------------------------------------------------------------------\u001b[39m",
      "\u001b[31mKeyError\u001b[39m                                  Traceback (most recent call last)",
      "\u001b[36mCell\u001b[39m\u001b[36m \u001b[39m\u001b[32mIn[3]\u001b[39m\u001b[32m, line 1\u001b[39m\n\u001b[32m----> \u001b[39m\u001b[32m1\u001b[39m \u001b[38;5;28;43mdict\u001b[39;49m\u001b[43m[\u001b[49m\u001b[33;43m\"\u001b[39;49m\u001b[33;43mname1\u001b[39;49m\u001b[33;43m\"\u001b[39;49m\u001b[43m]\u001b[49m\n",
      "\u001b[31mKeyError\u001b[39m: 'name1'"
     ]
    }
   ],
   "source": [
    "dict[\"name1\"]"
   ]
  },
  {
   "cell_type": "code",
   "execution_count": 5,
   "id": "850535cd",
   "metadata": {},
   "outputs": [
    {
     "data": {
      "text/plain": [
       "'Zosia'"
      ]
     },
     "execution_count": 5,
     "metadata": {},
     "output_type": "execute_result"
    }
   ],
   "source": [
    "dict.get(\"name\", \"Key not found\")  # Using get method to avoid KeyError"
   ]
  }
 ],
 "metadata": {
  "kernelspec": {
   "display_name": ".venv",
   "language": "python",
   "name": "python3"
  },
  "language_info": {
   "codemirror_mode": {
    "name": "ipython",
    "version": 3
   },
   "file_extension": ".py",
   "mimetype": "text/x-python",
   "name": "python",
   "nbconvert_exporter": "python",
   "pygments_lexer": "ipython3",
   "version": "3.13.5"
  }
 },
 "nbformat": 4,
 "nbformat_minor": 5
}

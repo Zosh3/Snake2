{
 "cells": [
  {
   "cell_type": "code",
   "execution_count": 1,
   "id": "a1f9f893",
   "metadata": {},
   "outputs": [
    {
     "data": {
      "text/plain": [
       "7"
      ]
     },
     "execution_count": 1,
     "metadata": {},
     "output_type": "execute_result"
    }
   ],
   "source": [
    "3+4\n"
   ]
  },
  {
   "cell_type": "code",
   "execution_count": 7,
   "id": "a452f210",
   "metadata": {},
   "outputs": [],
   "source": [
    "def greet(first_name , last_name):\n",
    "    return f\"Hello, {first_name} xxx {last_name}!\""
   ]
  },
  {
   "cell_type": "code",
   "execution_count": 8,
   "id": "ead99d3a",
   "metadata": {},
   "outputs": [
    {
     "data": {
      "text/plain": [
       "'Hello, Zosia xxx Wilcock!'"
      ]
     },
     "execution_count": 8,
     "metadata": {},
     "output_type": "execute_result"
    }
   ],
   "source": [
    "greet(\"Zosia\" , \"Wilcock\")"
   ]
  },
  {
   "cell_type": "code",
   "execution_count": 21,
   "id": "21d2a808",
   "metadata": {},
   "outputs": [],
   "source": [
    "def is_out_of_bounds(x, y):\n",
    "    if x >= 100 or x < 0 or y >= 100 or y < 0:\n",
    "        return True \n",
    "\n",
    "    return False\n",
    "     "
   ]
  },
  {
   "cell_type": "code",
   "execution_count": 24,
   "id": "0ea9543b",
   "metadata": {},
   "outputs": [
    {
     "data": {
      "text/plain": [
       "False"
      ]
     },
     "execution_count": 24,
     "metadata": {},
     "output_type": "execute_result"
    }
   ],
   "source": [
    "is_out_of_bounds(1, 10)"
   ]
  }
 ],
 "metadata": {
  "kernelspec": {
   "display_name": ".venv",
   "language": "python",
   "name": "python3"
  },
  "language_info": {
   "codemirror_mode": {
    "name": "ipython",
    "version": 3
   },
   "file_extension": ".py",
   "mimetype": "text/x-python",
   "name": "python",
   "nbconvert_exporter": "python",
   "pygments_lexer": "ipython3",
   "version": "3.13.5"
  }
 },
 "nbformat": 4,
 "nbformat_minor": 5
}

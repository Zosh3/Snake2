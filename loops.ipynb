{
 "cells": [
  {
   "cell_type": "markdown",
   "id": "631fb361",
   "metadata": {},
   "source": [
    "# heading 1\n",
    "\n",
    "## heading 2\n",
    "\n",
    "### heading 3\n",
    "\n",
    "__hello__ _there_"
   ]
  },
  {
   "cell_type": "code",
   "execution_count": 2,
   "id": "ad2bfd4f",
   "metadata": {},
   "outputs": [
    {
     "data": {
      "text/plain": [
       "7"
      ]
     },
     "execution_count": 2,
     "metadata": {},
     "output_type": "execute_result"
    }
   ],
   "source": [
    "3+4"
   ]
  },
  {
   "cell_type": "markdown",
   "id": "4c73a1cf",
   "metadata": {},
   "source": [
    "lets test a while loop"
   ]
  },
  {
   "cell_type": "code",
   "execution_count": 3,
   "id": "b4d6ff94",
   "metadata": {},
   "outputs": [
    {
     "name": "stdout",
     "output_type": "stream",
     "text": [
      "10\n",
      "9\n",
      "8\n",
      "7\n",
      "6\n",
      "5\n",
      "4\n",
      "3\n",
      "2\n",
      "1\n"
     ]
    }
   ],
   "source": [
    "i = 10\n",
    "while i > 0:\n",
    "    print(i)\n",
    "    i = i - 1"
   ]
  },
  {
   "cell_type": "code",
   "execution_count": 1,
   "id": "e7033114",
   "metadata": {},
   "outputs": [
    {
     "name": "stdout",
     "output_type": "stream",
     "text": [
      "Hello, zosia!\n"
     ]
    }
   ],
   "source": [
    "name = input(\"Enter your name: \")\n",
    "print(\"Hello, {name}!\")"
   ]
  },
  {
   "cell_type": "code",
   "execution_count": 4,
   "id": "48017c6d",
   "metadata": {},
   "outputs": [
    {
     "name": "stdout",
     "output_type": "stream",
     "text": [
      "This will run forever\n",
      "Hello, zosia!\n",
      "This will run forever\n",
      "Hello, ZOSIA!\n",
      "This will run forever\n",
      "Hello, Zosia!\n"
     ]
    }
   ],
   "source": [
    "while True:\n",
    "    print(\"This will run forever\")\n",
    "    name=input(\"What's your name?\")\n",
    "    print(f\"Hello, {name}!\")\n",
    "    if name == \"Zosia\":\n",
    "        break\n",
    "\n",
    "    #break  # Remove this line to let it run indefinitely"
   ]
  },
  {
   "cell_type": "code",
   "execution_count": 5,
   "id": "7a90e126",
   "metadata": {},
   "outputs": [
    {
     "name": "stdout",
     "output_type": "stream",
     "text": [
      "1\n",
      "2\n",
      "3\n",
      "4\n",
      "5\n",
      "6\n",
      "7\n",
      "8\n",
      "9\n",
      "10\n"
     ]
    }
   ],
   "source": [
    "for i in range(1, 11):\n",
    "    print(i)"
   ]
  },
  {
   "cell_type": "code",
   "execution_count": 9,
   "id": "603eb9ed",
   "metadata": {},
   "outputs": [
    {
     "name": "stdout",
     "output_type": "stream",
     "text": [
      "Hello, Mary!\n",
      "Hello, Anne!\n",
      "Hello, Sarah!\n"
     ]
    }
   ],
   "source": [
    "aunties = [\"Mary\", \"Anne\", \"Sarah\"]\n",
    "for auntie in aunties:\n",
    "    print(f\"Hello, {auntie}!\")"
   ]
  },
  {
   "cell_type": "code",
   "execution_count": 10,
   "id": "332b3af8",
   "metadata": {},
   "outputs": [
    {
     "name": "stdout",
     "output_type": "stream",
     "text": [
      "y is something else\n"
     ]
    }
   ],
   "source": [
    "letter = input(\"Enter a letter: \")\n",
    "if letter in \"aeiou\":\n",
    "    print(f\"{letter} is a vowel!\")\n",
    "elif letter in \"zs\":\n",
    "    print(f\"{letter} is a high value letter!\")\n",
    "else:\n",
    "    print(f\"{letter} is something else\")"
   ]
  }
 ],
 "metadata": {
  "kernelspec": {
   "display_name": ".venv",
   "language": "python",
   "name": "python3"
  },
  "language_info": {
   "codemirror_mode": {
    "name": "ipython",
    "version": 3
   },
   "file_extension": ".py",
   "mimetype": "text/x-python",
   "name": "python",
   "nbconvert_exporter": "python",
   "pygments_lexer": "ipython3",
   "version": "3.13.5"
  }
 },
 "nbformat": 4,
 "nbformat_minor": 5
}
